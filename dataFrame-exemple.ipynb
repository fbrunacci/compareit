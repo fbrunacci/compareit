{
 "cells": [
  {
   "cell_type": "markdown",
   "id": "85238a29",
   "metadata": {},
   "source": [
    "http://www.xavierdupre.fr/app/ensae_teaching_cs/helpsphinx/notebooks/td2a_cenonce_session_1.html"
   ]
  },
  {
   "cell_type": "code",
   "execution_count": 5,
   "id": "fe4509de",
   "metadata": {},
   "outputs": [
    {
     "data": {
      "text/plain": [
       "0              42\n",
       "1    Hello World!\n",
       "2            3.14\n",
       "3              -5\n",
       "4            None\n",
       "dtype: object"
      ]
     },
     "execution_count": 5,
     "metadata": {},
     "output_type": "execute_result"
    }
   ],
   "source": [
    "import pandas\n",
    "from pandas import Series\n",
    "import numpy\n",
    "s = Series([42, 'Hello World!', 3.14, -5, None, numpy.nan])\n",
    "s.head()"
   ]
  },
  {
   "cell_type": "code",
   "execution_count": 8,
   "id": "3b3662bb-5c07-439a-a0f5-4d4ee59fdf0e",
   "metadata": {},
   "outputs": [
    {
     "data": {
      "text/html": [
       "<div>\n",
       "<style scoped>\n",
       "    .dataframe tbody tr th:only-of-type {\n",
       "        vertical-align: middle;\n",
       "    }\n",
       "\n",
       "    .dataframe tbody tr th {\n",
       "        vertical-align: top;\n",
       "    }\n",
       "\n",
       "    .dataframe thead th {\n",
       "        text-align: right;\n",
       "    }\n",
       "</style>\n",
       "<table border=\"1\" class=\"dataframe\">\n",
       "  <thead>\n",
       "    <tr style=\"text-align: right;\">\n",
       "      <th></th>\n",
       "      <th>nom</th>\n",
       "      <th>prenom</th>\n",
       "      <th>iban</th>\n",
       "    </tr>\n",
       "    <tr>\n",
       "      <th>id</th>\n",
       "      <th></th>\n",
       "      <th></th>\n",
       "      <th></th>\n",
       "    </tr>\n",
       "  </thead>\n",
       "  <tbody>\n",
       "    <tr>\n",
       "      <th>1</th>\n",
       "      <td>toto1</td>\n",
       "      <td>tutu2</td>\n",
       "      <td>CH93 0076 2011 6238 5295 7</td>\n",
       "    </tr>\n",
       "    <tr>\n",
       "      <th>2</th>\n",
       "      <td>toto2</td>\n",
       "      <td>tutu3</td>\n",
       "      <td>CH93 0076 2011 6238 5295 5</td>\n",
       "    </tr>\n",
       "    <tr>\n",
       "      <th>3</th>\n",
       "      <td>toto3</td>\n",
       "      <td>tutu4</td>\n",
       "      <td>CH93 0076 2011 6238 5295 4</td>\n",
       "    </tr>\n",
       "  </tbody>\n",
       "</table>\n",
       "</div>"
      ],
      "text/plain": [
       "      nom prenom                        iban\n",
       "id                                          \n",
       "1   toto1  tutu2  CH93 0076 2011 6238 5295 7\n",
       "2   toto2  tutu3  CH93 0076 2011 6238 5295 5\n",
       "3   toto3  tutu4  CH93 0076 2011 6238 5295 4"
      ]
     },
     "execution_count": 8,
     "metadata": {},
     "output_type": "execute_result"
    }
   ],
   "source": [
    "f1 = pandas.read_excel('data/file1.xlsx', index_col=0) \n",
    "f1"
   ]
  },
  {
   "cell_type": "code",
   "execution_count": 11,
   "id": "ed2cbdc3-397b-4ddc-ad2a-965b395f4331",
   "metadata": {},
   "outputs": [
    {
     "data": {
      "text/html": [
       "<div>\n",
       "<style scoped>\n",
       "    .dataframe tbody tr th:only-of-type {\n",
       "        vertical-align: middle;\n",
       "    }\n",
       "\n",
       "    .dataframe tbody tr th {\n",
       "        vertical-align: top;\n",
       "    }\n",
       "\n",
       "    .dataframe thead th {\n",
       "        text-align: right;\n",
       "    }\n",
       "</style>\n",
       "<table border=\"1\" class=\"dataframe\">\n",
       "  <thead>\n",
       "    <tr style=\"text-align: right;\">\n",
       "      <th></th>\n",
       "      <th>nom</th>\n",
       "      <th>prenom</th>\n",
       "      <th>iban</th>\n",
       "    </tr>\n",
       "    <tr>\n",
       "      <th>id</th>\n",
       "      <th></th>\n",
       "      <th></th>\n",
       "      <th></th>\n",
       "    </tr>\n",
       "  </thead>\n",
       "  <tbody>\n",
       "    <tr>\n",
       "      <th>1</th>\n",
       "      <td>toto1</td>\n",
       "      <td>tutu2</td>\n",
       "      <td>CH93 0076 2011 6238 5295 7</td>\n",
       "    </tr>\n",
       "    <tr>\n",
       "      <th>2</th>\n",
       "      <td>toto2</td>\n",
       "      <td>tutu3</td>\n",
       "      <td>CH93 0076 2011 6238 5295 5</td>\n",
       "    </tr>\n",
       "    <tr>\n",
       "      <th>3</th>\n",
       "      <td>toto3</td>\n",
       "      <td>tutu4</td>\n",
       "      <td>CH93 0076 2011 6238 5295 4</td>\n",
       "    </tr>\n",
       "    <tr>\n",
       "      <th>4</th>\n",
       "      <td>toto4</td>\n",
       "      <td>tutu5</td>\n",
       "      <td>CH93 0076 2011 6238 5295 9</td>\n",
       "    </tr>\n",
       "  </tbody>\n",
       "</table>\n",
       "</div>"
      ],
      "text/plain": [
       "      nom prenom                        iban\n",
       "id                                          \n",
       "1   toto1  tutu2  CH93 0076 2011 6238 5295 7\n",
       "2   toto2  tutu3  CH93 0076 2011 6238 5295 5\n",
       "3   toto3  tutu4  CH93 0076 2011 6238 5295 4\n",
       "4   toto4  tutu5  CH93 0076 2011 6238 5295 9"
      ]
     },
     "execution_count": 11,
     "metadata": {},
     "output_type": "execute_result"
    }
   ],
   "source": [
    "f2 = pandas.read_excel('data/file2.xlsx', index_col=0) \n",
    "f2"
   ]
  },
  {
   "cell_type": "code",
   "execution_count": 12,
   "id": "2ae08d97-7224-4c1d-9f4a-2e789491af4d",
   "metadata": {},
   "outputs": [
    {
     "data": {
      "text/html": [
       "<div>\n",
       "<style scoped>\n",
       "    .dataframe tbody tr th:only-of-type {\n",
       "        vertical-align: middle;\n",
       "    }\n",
       "\n",
       "    .dataframe tbody tr th {\n",
       "        vertical-align: top;\n",
       "    }\n",
       "\n",
       "    .dataframe thead th {\n",
       "        text-align: right;\n",
       "    }\n",
       "</style>\n",
       "<table border=\"1\" class=\"dataframe\">\n",
       "  <thead>\n",
       "    <tr style=\"text-align: right;\">\n",
       "      <th></th>\n",
       "      <th>nom_x</th>\n",
       "      <th>prenom_x</th>\n",
       "      <th>iban</th>\n",
       "      <th>nom_y</th>\n",
       "      <th>prenom_y</th>\n",
       "    </tr>\n",
       "  </thead>\n",
       "  <tbody>\n",
       "    <tr>\n",
       "      <th>0</th>\n",
       "      <td>toto1</td>\n",
       "      <td>tutu2</td>\n",
       "      <td>CH93 0076 2011 6238 5295 7</td>\n",
       "      <td>toto1</td>\n",
       "      <td>tutu2</td>\n",
       "    </tr>\n",
       "    <tr>\n",
       "      <th>1</th>\n",
       "      <td>toto2</td>\n",
       "      <td>tutu3</td>\n",
       "      <td>CH93 0076 2011 6238 5295 5</td>\n",
       "      <td>toto2</td>\n",
       "      <td>tutu3</td>\n",
       "    </tr>\n",
       "    <tr>\n",
       "      <th>2</th>\n",
       "      <td>toto3</td>\n",
       "      <td>tutu4</td>\n",
       "      <td>CH93 0076 2011 6238 5295 4</td>\n",
       "      <td>toto3</td>\n",
       "      <td>tutu4</td>\n",
       "    </tr>\n",
       "  </tbody>\n",
       "</table>\n",
       "</div>"
      ],
      "text/plain": [
       "   nom_x prenom_x                        iban  nom_y prenom_y\n",
       "0  toto1    tutu2  CH93 0076 2011 6238 5295 7  toto1    tutu2\n",
       "1  toto2    tutu3  CH93 0076 2011 6238 5295 5  toto2    tutu3\n",
       "2  toto3    tutu4  CH93 0076 2011 6238 5295 4  toto3    tutu4"
      ]
     },
     "execution_count": 12,
     "metadata": {},
     "output_type": "execute_result"
    }
   ],
   "source": [
    "f1.merge(f2, left_on=\"iban\", right_on=\"iban\")"
   ]
  }
 ],
 "metadata": {
  "kernelspec": {
   "display_name": "myenv",
   "language": "python",
   "name": "myenv"
  },
  "language_info": {
   "codemirror_mode": {
    "name": "ipython",
    "version": 3
   },
   "file_extension": ".py",
   "mimetype": "text/x-python",
   "name": "python",
   "nbconvert_exporter": "python",
   "pygments_lexer": "ipython3",
   "version": "3.11.6"
  }
 },
 "nbformat": 4,
 "nbformat_minor": 5
}
